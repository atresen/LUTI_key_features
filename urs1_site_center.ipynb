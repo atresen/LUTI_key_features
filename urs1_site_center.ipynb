{
 "cells": [
  {
   "cell_type": "code",
   "execution_count": 1,
   "metadata": {},
   "outputs": [],
   "source": [
    "import pandas as pd\n",
    "import numpy as np"
   ]
  },
  {
   "cell_type": "markdown",
   "metadata": {},
   "source": [
    "# Determine the S288C chromosome location for the midpoint of the URS1 site at sites that are bound by Ume6"
   ]
  },
  {
   "cell_type": "code",
   "execution_count": 22,
   "metadata": {},
   "outputs": [],
   "source": [
    "\n",
    "# in order to get the positions.txt file\n",
    "# copied a table from the meme.txt output and pasted it into a new file\n",
    "# removed all of the spaces and then replaced them with tabs\n",
    "\n",
    "lutipositions = pd.read_csv('urs1_motif_analysis/lutipositions.txt', sep='\\t', header=None)\n",
    "lutipositions['df_origin'] = 'luti'\n",
    "\n",
    "knownpositions = pd.read_csv('urs1_motif_analysis/knownpositions.txt', sep='\\t', header=None)\n",
    "knownpositions['df_origin'] = 'known'\n",
    "\n",
    "# figure out the distance from the corresponding ORF\n",
    "\n",
    "# concat the files together so that all further analyses can be performed as one\n",
    "\n",
    "positions = pd.concat([lutipositions, knownpositions])\n",
    "\n",
    "positions['chr'] = positions[0].str.split(':', expand=True)[0]\n",
    "positions['coordinates'] = positions[0].str.split(':', expand=True)[1]\n",
    "positions['start'] = positions['coordinates'].str.split('-', expand=True)[0]\n",
    "positions['stop'] = positions['coordinates'].str.split('-', expand=True)[1]\n",
    "positions['mid'] = positions['start'].astype(int) + positions[2].astype(int) + 4\n",
    "positions['mid_coord'] = positions['chr'] + ':' + positions['mid'].astype(str)\n",
    "\n",
    "positions.drop([0, 1, 2, 3, 4, 5, 6, 'coordinates', 'chr', 'stop', 'mid'], \n",
    "    inplace=True, axis=1)\n",
    "\n"
   ]
  },
  {
   "cell_type": "code",
   "execution_count": 23,
   "metadata": {},
   "outputs": [],
   "source": [
    "\n",
    "# bring in the gene names from the bed files\n",
    "\n",
    "lutibed = pd.read_csv('bedfiles/lutiume6enrichedup300down300.bed', \n",
    "                      header=None, sep='\\t')\n",
    "lutibed[1] = lutibed[1].astype(str)\n",
    "lutibed.rename(columns={0:'chr', 1:'start', 2:'stop', 3:'parent', 4:'score', 5:'strand', 6:'peak'}\n",
    "               , inplace=True)\n",
    "\n",
    "knownbed = pd.read_csv('bedfiles/knownume6enrichedup300down300.bed',\n",
    "                      header=None, sep='\\t')\n",
    "knownbed[1] = knownbed[1].astype(str)\n",
    "knownbed.rename(columns={0:'chr', 1:'start', 2:'stop', 3:'parent', 4:'score', 5:'strand', 6:'peak'}\n",
    "               , inplace=True)\n",
    "\n",
    "bed = pd.concat([lutibed, knownbed])\n",
    "\n",
    "positions = positions.merge(bed, how='left', left_on='start', right_on='start')\n",
    "\n",
    "\n",
    "\n",
    "bedmidpositions = pd.DataFrame(columns=['chr', 'start', 'stop', 'parent', 'score', 'strand', 'peak'])\n",
    "\n",
    "bedmidpositions['chr'] = positions['chr']\n",
    "bedmidpositions['start'] = positions['mid_coord'].str.split(':', expand=True)[1].astype(int)\n",
    "bedmidpositions['stop'] = bedmidpositions['start'].astype(int) + 1\n",
    "bedmidpositions['parent'] = positions['parent']\n",
    "bedmidpositions['score'] = positions['df_origin']\n",
    "bedmidpositions['strand'] = positions['strand']\n",
    "bedmidpositions['peak'] = positions['peak']\n",
    "\n",
    "bedmidpositions = bedmidpositions.dropna()\n"
   ]
  },
  {
   "cell_type": "code",
   "execution_count": 24,
   "metadata": {},
   "outputs": [],
   "source": [
    "\n",
    "allbed = pd.read_csv('bedfiles/SK1_PacBio_with_gene_names_MHspikes.bed',\n",
    "                    sep='\\t', header=None)\n",
    "\n",
    "allbed.drop([0,4,5], inplace=True, axis=1)\n",
    "allbed[2].astype(int)\n",
    "allbed[1].astype(int)\n",
    "\n",
    "orftomid = bedmidpositions.merge(allbed, how='left', left_on='parent', right_on=3)\n",
    "\n",
    "\n",
    "plus = []\n",
    "minus = []\n",
    "\n",
    "plus = (orftomid[1] - orftomid['start']).astype(int)\n",
    "minus = (orftomid['stop'] - orftomid[2]).astype(int)\n",
    "\n",
    "orftomid['distance'] = [plus[idx] if sign  == '+' else minus[idx] for idx, sign in orftomid['strand'].iteritems()]\n",
    "\n",
    "# I now need to get the coordinates of the motif midpoint for S288C\n",
    "# drop all things that will not be needed when comparing to S288C\n",
    "orftomid.drop(['start', 'stop', 'peak', 1, 2, 3], axis=1, inplace=True)\n",
    "\n"
   ]
  },
  {
   "cell_type": "code",
   "execution_count": 25,
   "metadata": {},
   "outputs": [],
   "source": [
    "\n",
    "# I downloaded the .bed file from UCSC genome browser\n",
    "s288cbed = pd.read_csv('bedfiles/sacCer3.bed', sep='\\t', header=None)\n",
    "\n",
    "s288cbed = s288cbed.drop([4, 5, 6, 7, 8, 9, 10, 11], axis=1)\n",
    "\n",
    "s288cmidpositions = orftomid.merge(s288cbed, how='left', left_on='parent', right_on=3)\n",
    "\n",
    "plus = (s288cmidpositions[1] - s288cmidpositions['distance']).astype(int)\n",
    "minus = (s288cmidpositions[2] + s288cmidpositions['distance']).astype(int)\n",
    "\n",
    "s288cmidpositions['start'] = [plus[idx] if sign == '+' else minus[idx] for idx, sign in s288cmidpositions['strand'].iteritems()]\n",
    "\n",
    "s288cmidpositions['stop'] = s288cmidpositions['start'] + 1\n",
    "\n",
    "\n",
    "s288cmidpositions.drop([0, 1, 2, 3, 'distance'], axis=1, inplace=True)\n",
    "\n",
    "cols = ['chr', 'start', 'stop', 'parent', 'score', 'strand']\n",
    "\n",
    "# for the case of ITR2, the distance is wrong because S228C has a transposable element inside of it \n",
    "# I manually found the chromosome location and inputted it into the database below\n",
    "\n",
    "s288cmidpositions.loc[16, 'start':'stop'] = (117541, 117542)\n",
    "\n",
    "s288cmidpositions = s288cmidpositions[cols]\n",
    "\n",
    "s288cmidpositions[s288cmidpositions['score'] == 'luti'].to_csv('urs1_motif_analysis/sacCer3motifposluti.bed', sep='\\t', header=None, index=None)\n",
    "s288cmidpositions[s288cmidpositions['score'] == 'known'].to_csv('urs1_motif_analysis/sacCer3motifposknown.bed', sep='\\t', header=None, index=None)\n",
    "\n"
   ]
  }
 ],
 "metadata": {
  "kernelspec": {
   "display_name": "Python 3",
   "language": "python",
   "name": "python3"
  },
  "language_info": {
   "codemirror_mode": {
    "name": "ipython",
    "version": 3
   },
   "file_extension": ".py",
   "mimetype": "text/x-python",
   "name": "python",
   "nbconvert_exporter": "python",
   "pygments_lexer": "ipython3",
   "version": "3.6.7"
  }
 },
 "nbformat": 4,
 "nbformat_minor": 4
}
