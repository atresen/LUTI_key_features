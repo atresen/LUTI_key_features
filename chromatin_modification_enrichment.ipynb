{
 "cells": [
  {
   "cell_type": "code",
   "execution_count": 1,
   "metadata": {},
   "outputs": [],
   "source": [
    "import os\n",
    "import numpy as np\n",
    "import scipy as sp\n",
    "import sklearn as sk\n",
    "import pandas as pd\n",
    "import operator\n",
    "from operator import sub\n",
    "from decimal import Decimal\n",
    "import statistics\n",
    "from statistics import mean"
   ]
  },
  {
   "cell_type": "markdown",
   "metadata": {},
   "source": [
    "# Import a list of the LUTI genes"
   ]
  },
  {
   "cell_type": "code",
   "execution_count": 33,
   "metadata": {},
   "outputs": [],
   "source": [
    "\n",
    "genes = pd.read_csv(\"luti_genes.txt\", \n",
    "                   sep=\"\\t\")\n"
   ]
  },
  {
   "cell_type": "markdown",
   "metadata": {},
   "source": [
    "# From ChIP bigwig files, extract out the fold-enrichment over input values \n",
    "\n",
    "Performed for the 50 bp upstream and the 500 bp downstream of the TSSs for all genes and specifically for the PROX promoters at sites with LUTI RNAs \n",
    "\n",
    "This was performed in bash \n",
    "\n",
    "bash extract_bases_for_enrichment_analysis.sh"
   ]
  },
  {
   "cell_type": "markdown",
   "metadata": {},
   "source": [
    "# Sum the extracted fold-enrichment values"
   ]
  },
  {
   "cell_type": "code",
   "execution_count": 34,
   "metadata": {},
   "outputs": [],
   "source": [
    "\n",
    "# setup a function\n",
    "\n",
    "def f(directory):\n",
    "    _dir = os.fsencode(directory)\n",
    "    # loops through all of the files in a directory\n",
    "    for file1 in os.listdir(_dir):\n",
    "        filename = os.fsdecode(file1)\n",
    "        lss = list()\n",
    "        # if file ends in .txt, split the text in the 8th column by \",\" into a new list\n",
    "        # sum the list\n",
    "        if filename.endswith(\".txt\"): \n",
    "            df = pd.read_csv(directory + filename, sep='\\t', header=None)\n",
    "            s = df[7]\n",
    "            lst = s.tolist()\n",
    "            for i in lst:\n",
    "                l = i.split(',')\n",
    "                l = [float(x) for x in l]\n",
    "                _sum = np.sum(l)\n",
    "                lss.append(_sum)\n",
    "            genes[filename.split('.')[0] + '_sum'] = lss\n",
    "            \n"
   ]
  },
  {
   "cell_type": "code",
   "execution_count": 35,
   "metadata": {},
   "outputs": [],
   "source": [
    "\n",
    "# run the function\n",
    "\n",
    "directory = \"chromatin_mods_FE_files/up50/prox/\"\n",
    "f(directory)\n",
    "directory = \"chromatin_mods_FE_files/down500/prox/\"\n",
    "f(directory)\n",
    "\n",
    "\n",
    "sums = genes.copy()\n",
    "sums = sums.set_index('parent')"
   ]
  },
  {
   "cell_type": "markdown",
   "metadata": {},
   "source": [
    "# Calculating the fold change over the region between time points"
   ]
  },
  {
   "cell_type": "code",
   "execution_count": 43,
   "metadata": {},
   "outputs": [],
   "source": [
    "\n",
    "\n",
    "# take the ratio of the values 50 bp up and 500 bp down of the ORF tss start site\n",
    "\n",
    "prefixes = [i[:-12] for i in genes.columns if 'proxup50' in i]\n",
    "col1 = np.array([genes[i + 'proxup50_sum'] for i in prefixes])\n",
    "col2 = np.array([genes[i + 'proxdown500_sum'] for i in prefixes])\n",
    "new_names = [i + '-ratio' for i in prefixes]\n",
    "for new_name, vals1, vals2 in zip(new_names, col1, col2):\n",
    "    sums[new_name] = vals1 / vals2\n",
    "    \n",
    "    \n",
    "# get the enrichment for 4h over 2h\n",
    "\n",
    "prefixes_2h = [i for i in prefixes if '2h' in i]\n",
    "prefixes_4h = [i.replace('2h', '4h') for i in prefixes_2h]\n",
    "col3 = np.array([sums[i + '-ratio'] for i in prefixes_2h])\n",
    "col4 = np.array([sums[i + '-ratio'] for i in prefixes_4h])\n",
    "new_names = [i + 'foldchange' for i in prefixes_4h]\n",
    "for new_name, vals1, vals2 in zip(new_names, col4, col3):\n",
    "    sums[new_name] = vals1 / vals2\n",
    "    \n",
    "    \n",
    "# get the mean values \n",
    "\n",
    "fc = sums.filter(regex='foldchange')\n",
    "fc = fc.reindex(sorted(fc.columns), axis=1)\n",
    "\n",
    "mods = ['H3K36me3', 'H3K4me2_4h_ab']\n",
    "\n",
    "for xyz in mods:\n",
    "    fc[xyz + '_mean_fold_change'] = fc.filter(regex=xyz).mean(axis=1)\n",
    "    fc[xyz + '_stdev'] = fc.filter(regex=xyz).std(axis=1)\n",
    "\n",
    "fc.drop(list(fc.filter(regex='-foldchange')), axis=1, inplace=True)\n",
    "\n",
    "fc.to_csv(\"mod_enrichment_rel_to_downstream.txt\", sep=\"\\t\")\n",
    "\n"
   ]
  }
 ],
 "metadata": {
  "kernelspec": {
   "display_name": "Python 3",
   "language": "python",
   "name": "python3"
  },
  "language_info": {
   "codemirror_mode": {
    "name": "ipython",
    "version": 3
   },
   "file_extension": ".py",
   "mimetype": "text/x-python",
   "name": "python",
   "nbconvert_exporter": "python",
   "pygments_lexer": "ipython3",
   "version": "3.6.7"
  }
 },
 "nbformat": 4,
 "nbformat_minor": 4
}
