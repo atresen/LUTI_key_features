{
 "cells": [
  {
   "cell_type": "code",
   "execution_count": 7,
   "metadata": {},
   "outputs": [],
   "source": [
    "import os\n",
    "import numpy as np\n",
    "import scipy as sp\n",
    "import sklearn as sk\n",
    "import pandas as pd\n",
    "import operator\n",
    "from operator import sub\n",
    "from decimal import Decimal\n",
    "from sklearn import preprocessing\n",
    "import statistics\n",
    "import seaborn as sb\n",
    "from sklearn.cluster import KMeans\n",
    "import matplotlib.pyplot as plt\n",
    "import pybedtools\n",
    "from pybedtools import BedTool"
   ]
  },
  {
   "cell_type": "markdown",
   "metadata": {},
   "source": [
    "# For each gene, pick the one TL-seq peak that best matches"
   ]
  },
  {
   "cell_type": "code",
   "execution_count": 8,
   "metadata": {},
   "outputs": [],
   "source": [
    "# I first read in the file produced by CAGEr with gene names associated\n",
    "# This is based off of the concensus clusters from all samples\n",
    "\n",
    "df = pd.read_csv('181130clusters_diff_exp_loose_with_genes.csv', sep='\\t')\n",
    "df = df.dropna('rows')\n",
    "df = df.reset_index().drop('index', axis=1)\n",
    "df = df[df['tpm'] > 4]\n",
    "\n",
    "\n",
    "# to return only a single TSS per gene\n",
    "# find instances in which at least one end of the peak is upstream of the gene's ORF \n",
    "# and pick the closest peak to the gene's start\n",
    "\n",
    "# start by converting to a bed file in order to use bedtools\n",
    "\n",
    "tlbed = pd.DataFrame(columns=['chr', 'start', 'end', 'name', 'score', 'strand'])\n",
    "\n",
    "tlbed['chr'] = df['coordinates'].str.split(':', expand=True)[0]\n",
    "tlbed['start'] = (df['coordinates']\n",
    "                      .str.split(':', expand=True)[1]\n",
    "                      .str.split('-', expand=True)[0]) \n",
    "tlbed['start'] = tlbed['start'].astype(int)\n",
    "tlbed['end'] = (df['coordinates']\n",
    "                    .str.split(':', expand=True)[1]\n",
    "                    .str.split('-', expand=True)[1])\n",
    "tlbed['name'] = df['genes']\n",
    "tlbed['score'] = 1\n",
    "tlbed['strand'] = df['coordinates'].str.split(':', expand=True)[2]\n",
    "\n",
    "# fill in the end value for single bp peaks and then add one to all\n",
    "\n",
    "tlbed['end'].fillna(value=tlbed['start'], inplace=True)\n",
    "tlbed['end'] = tlbed['end'].astype(int) + 1\n",
    "\n"
   ]
  },
  {
   "cell_type": "code",
   "execution_count": 9,
   "metadata": {},
   "outputs": [],
   "source": [
    "\n",
    "# load in the bed file for the genome's ORFs\n",
    "\n",
    "bed = pd.read_csv('SK1.genes_w_paralogs_no_dups.bed',\n",
    "                 sep='\\t', header=None)\n",
    "\n",
    "bed[1] = bed[1].astype(int)\n",
    "bed[2] = bed[2].astype(int)\n",
    "\n"
   ]
  },
  {
   "cell_type": "code",
   "execution_count": 12,
   "metadata": {},
   "outputs": [],
   "source": [
    "\n",
    "# merge the two dataframes on gene name\n",
    "\n",
    "tlmerge = tlbed.merge(bed, how='left', left_on='name', right_on=3).dropna()\n",
    "\n",
    "\n",
    "# determine the distance between the TSS stop and the ORF start\n",
    "\n",
    "tlmerge['dist'] = [ (tlmerge.loc[idx, 1] - tlmerge.loc[idx, 'start']) \n",
    "                   if x == '+' \n",
    "                   else (tlmerge.loc[idx, 'end'] - tlmerge.loc[idx, 2])  \n",
    "                   for idx, x in tlmerge['strand'].iteritems()]\n",
    "\n",
    "\n",
    "# remove any TSSs that are entirely in the ORF\n",
    "\n",
    "tlmerge = tlmerge[tlmerge['dist'] > 0]\n",
    "\n",
    "\n",
    "# select the peak that is closest to the promoter\n",
    "\n",
    "df2 = pd.DataFrame()\n",
    "\n",
    "for gene, group in tlmerge.groupby('name'):\n",
    "    keep_index = group['dist'].idxmin()\n",
    "    keep = tlmerge.loc[keep_index]\n",
    "    df2 = df2.append(keep)\n",
    "\n",
    "# only keep the best identified peak in the final dataframe\n",
    "df2['start'] = df2['start'].astype(int).astype(str)\n",
    "searchfor = df2['chr'] + ':' + df2['start']\n",
    "\n",
    "df = df[df['coordinates'].str.contains('|'.join(searchfor))]\n",
    "\n",
    "df.drop([\"score\", \"consensus.cluster\",\"tpm\", \"annotation\"], axis=1, inplace=True)\n",
    "\n",
    "df.to_csv('181130single_tss_per_gene.csv', index=False, )\n",
    "\n"
   ]
  }
 ],
 "metadata": {
  "kernelspec": {
   "display_name": "Python 3",
   "language": "python",
   "name": "python3"
  },
  "language_info": {
   "codemirror_mode": {
    "name": "ipython",
    "version": 3
   },
   "file_extension": ".py",
   "mimetype": "text/x-python",
   "name": "python",
   "nbconvert_exporter": "python",
   "pygments_lexer": "ipython3",
   "version": "3.6.7"
  }
 },
 "nbformat": 4,
 "nbformat_minor": 4
}
